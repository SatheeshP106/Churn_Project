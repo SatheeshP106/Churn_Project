{
 "cells": [
  {
   "cell_type": "code",
   "execution_count": null,
   "metadata": {},
   "outputs": [],
   "source": [
    "import pandas as pd\n",
    " \n",
    "# Load the dataset\n",
    "file_path = \"utilization.csv\"\n",
    "df = pd.read_csv(file_path)\n",
    "# Convert score_date to datetime format\n",
    "df['score_date'] = pd.to_datetime(df['score_date'], format=\"%d-%m-%Y\")\n",
    "# Fill missing values\n",
    "df['max_seats'].fillna(df['max_seats'].median(), inplace=True)\n",
    "df['max_seats_M_before'].fillna(df['max_seats_M_before'].median(), inplace=True)\n",
    "df['is_provisioned_any_channel_M_before'].fillna(df['is_provisioned_any_channel_M_before'].median(), inplace=True)\n",
    "# Remove duplicates\n",
    "df.drop_duplicates(inplace=True)\n",
    "\n",
    "# Save the cleaned dataset\n",
    "cleaned_file_path = \"cleaned_utilization.csv\"\n",
    "df.to_csv(cleaned_file_path, index=False)\n",
    "\n",
    "print(\"Cleaning complete. Cleaned file saved as:\", cleaned_file_path)\n",
    "\n"
   ]
  },
  {
   "cell_type": "code",
   "execution_count": 11,
   "metadata": {},
   "outputs": [
    {
     "name": "stdout",
     "output_type": "stream",
     "text": [
      "id                                     0\n",
      "score_date                             0\n",
      "max_seats                              0\n",
      "agent_utilization                      0\n",
      "is_provisioned_any_channel_M_before    0\n",
      "max_seats_M_before                     0\n",
      "agent_utilization_increase             0\n",
      "agent_utilization_decrease             0\n",
      "seat_utilization                       0\n",
      "seat_utilization_M_before              0\n",
      "seat_utilization_increase              0\n",
      "seat_utilization_decrease              0\n",
      "dtype: int64\n"
     ]
    }
   ],
   "source": [
    "df = pd.read_csv(\"cleaned_utilization.csv\")\n",
    "print(df.isnull().sum())"
   ]
  }
 ],
 "metadata": {
  "kernelspec": {
   "display_name": "Python 3",
   "language": "python",
   "name": "python3"
  },
  "language_info": {
   "codemirror_mode": {
    "name": "ipython",
    "version": 3
   },
   "file_extension": ".py",
   "mimetype": "text/x-python",
   "name": "python",
   "nbconvert_exporter": "python",
   "pygments_lexer": "ipython3",
   "version": "3.12.9"
  }
 },
 "nbformat": 4,
 "nbformat_minor": 2
}
