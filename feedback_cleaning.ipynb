{
 "cells": [
  {
   "cell_type": "code",
   "execution_count": 11,
   "metadata": {},
   "outputs": [
    {
     "name": "stdout",
     "output_type": "stream",
     "text": [
      "13417\n",
      "1053\n"
     ]
    }
   ],
   "source": [
    "import pandas as pd\n",
    "\n",
    "customer_feedback = pd.read_csv('raw/customer_feedback.csv')\n",
    "\n",
    "print(len(customer_feedback))\n",
    "\n",
    "x=[]\n",
    "for i in customer_feedback['id']:\n",
    "    if i not in x:\n",
    "        x.append(i)\n",
    "        \n",
    "print(len(x))\n",
    "        \n"
   ]
  },
  {
   "cell_type": "code",
   "execution_count": 12,
   "metadata": {},
   "outputs": [
    {
     "name": "stdout",
     "output_type": "stream",
     "text": [
      "13417\n",
      "Index(['id', 'score_date', 'csat_score', 'csat_response_rate', 'nps_score',\n",
      "       'nps_score_all_time', 'avg_nps_rating', 'avg_nps_rating_all_time',\n",
      "       'outreach_call_90dayflag', 'num_low_sev_outages',\n",
      "       'num_high_sev_outages', 'months_since_high_sev_outage',\n",
      "       'num_tickets_deflected', 'max_tickets_per_agent'],\n",
      "      dtype='object')\n"
     ]
    }
   ],
   "source": [
    "a=(customer_feedback['num_high_sev_outages']==customer_feedback['has_high_sev_outage'])\n",
    "print(len(a))\n",
    "\n",
    "customer_feedback=customer_feedback.drop('has_high_sev_outage',axis=1)\n",
    "print(customer_feedback.columns)"
   ]
  },
  {
   "cell_type": "code",
   "execution_count": 13,
   "metadata": {},
   "outputs": [],
   "source": [
    "customer_feedback.to_csv('customer_feedback1.csv',index=False)"
   ]
  },
  {
   "cell_type": "code",
   "execution_count": 14,
   "metadata": {},
   "outputs": [
    {
     "name": "stderr",
     "output_type": "stream",
     "text": [
      "C:\\Users\\VarshaS\\AppData\\Local\\Temp\\ipykernel_13800\\1648286279.py:1: FutureWarning: A value is trying to be set on a copy of a DataFrame or Series through chained assignment using an inplace method.\n",
      "The behavior will change in pandas 3.0. This inplace method will never work because the intermediate object on which we are setting values always behaves as a copy.\n",
      "\n",
      "For example, when doing 'df[col].method(value, inplace=True)', try using 'df.method({col: value}, inplace=True)' or df[col] = df[col].method(value) instead, to perform the operation inplace on the original object.\n",
      "\n",
      "\n",
      "  customer_feedback['nps_score'].fillna(0, inplace=True)\n",
      "C:\\Users\\VarshaS\\AppData\\Local\\Temp\\ipykernel_13800\\1648286279.py:2: FutureWarning: A value is trying to be set on a copy of a DataFrame or Series through chained assignment using an inplace method.\n",
      "The behavior will change in pandas 3.0. This inplace method will never work because the intermediate object on which we are setting values always behaves as a copy.\n",
      "\n",
      "For example, when doing 'df[col].method(value, inplace=True)', try using 'df.method({col: value}, inplace=True)' or df[col] = df[col].method(value) instead, to perform the operation inplace on the original object.\n",
      "\n",
      "\n",
      "  customer_feedback['nps_score_all_time'].fillna(0, inplace=True)\n",
      "C:\\Users\\VarshaS\\AppData\\Local\\Temp\\ipykernel_13800\\1648286279.py:3: FutureWarning: A value is trying to be set on a copy of a DataFrame or Series through chained assignment using an inplace method.\n",
      "The behavior will change in pandas 3.0. This inplace method will never work because the intermediate object on which we are setting values always behaves as a copy.\n",
      "\n",
      "For example, when doing 'df[col].method(value, inplace=True)', try using 'df.method({col: value}, inplace=True)' or df[col] = df[col].method(value) instead, to perform the operation inplace on the original object.\n",
      "\n",
      "\n",
      "  customer_feedback['avg_nps_rating'].fillna(0, inplace=True)\n",
      "C:\\Users\\VarshaS\\AppData\\Local\\Temp\\ipykernel_13800\\1648286279.py:4: FutureWarning: A value is trying to be set on a copy of a DataFrame or Series through chained assignment using an inplace method.\n",
      "The behavior will change in pandas 3.0. This inplace method will never work because the intermediate object on which we are setting values always behaves as a copy.\n",
      "\n",
      "For example, when doing 'df[col].method(value, inplace=True)', try using 'df.method({col: value}, inplace=True)' or df[col] = df[col].method(value) instead, to perform the operation inplace on the original object.\n",
      "\n",
      "\n",
      "  customer_feedback['avg_nps_rating_all_time'].fillna(0, inplace=True)\n"
     ]
    }
   ],
   "source": [
    "customer_feedback['nps_score'].fillna(0, inplace=True)\n",
    "customer_feedback['nps_score_all_time'].fillna(0, inplace=True)\n",
    "customer_feedback['avg_nps_rating'].fillna(0, inplace=True)\n",
    "customer_feedback['avg_nps_rating_all_time'].fillna(0, inplace=True)"
   ]
  },
  {
   "cell_type": "code",
   "execution_count": 15,
   "metadata": {},
   "outputs": [
    {
     "name": "stdout",
     "output_type": "stream",
     "text": [
      "id\n",
      "0\n",
      "score_date\n",
      "0\n",
      "csat_score\n",
      "0\n",
      "csat_response_rate\n",
      "0\n",
      "nps_score\n",
      "0\n",
      "nps_score_all_time\n",
      "0\n",
      "avg_nps_rating\n",
      "0\n",
      "avg_nps_rating_all_time\n",
      "0\n",
      "outreach_call_90dayflag\n",
      "0\n",
      "num_low_sev_outages\n",
      "0\n",
      "num_high_sev_outages\n",
      "0\n",
      "months_since_high_sev_outage\n",
      "2190\n",
      "num_tickets_deflected\n",
      "0\n",
      "max_tickets_per_agent\n",
      "0\n"
     ]
    }
   ],
   "source": [
    "for i in customer_feedback.columns:\n",
    "    print(i)\n",
    "    print(customer_feedback[i].isnull().sum())"
   ]
  },
  {
   "cell_type": "code",
   "execution_count": 16,
   "metadata": {},
   "outputs": [
    {
     "name": "stderr",
     "output_type": "stream",
     "text": [
      "C:\\Users\\VarshaS\\AppData\\Local\\Temp\\ipykernel_13800\\3461665896.py:1: FutureWarning: A value is trying to be set on a copy of a DataFrame or Series through chained assignment using an inplace method.\n",
      "The behavior will change in pandas 3.0. This inplace method will never work because the intermediate object on which we are setting values always behaves as a copy.\n",
      "\n",
      "For example, when doing 'df[col].method(value, inplace=True)', try using 'df.method({col: value}, inplace=True)' or df[col] = df[col].method(value) instead, to perform the operation inplace on the original object.\n",
      "\n",
      "\n",
      "  customer_feedback['months_since_high_sev_outage'].fillna(0, inplace=True)\n"
     ]
    }
   ],
   "source": [
    "customer_feedback['months_since_high_sev_outage'].fillna(0, inplace=True)\n",
    "\n",
    "customer_feedback[\"score_date\"] = pd.to_datetime(customer_feedback[\"score_date\"], format=\"%d-%m-%Y\", errors=\"coerce\")\n"
   ]
  },
  {
   "cell_type": "code",
   "execution_count": 17,
   "metadata": {},
   "outputs": [
    {
     "name": "stdout",
     "output_type": "stream",
     "text": [
      "0\n"
     ]
    }
   ],
   "source": [
    "print(customer_feedback['months_since_high_sev_outage'].isnull().sum())\n",
    "\n",
    "customer_feedback.to_csv('customer_feedback2.csv',index=False)"
   ]
  },
  {
   "cell_type": "code",
   "execution_count": 18,
   "metadata": {},
   "outputs": [
    {
     "name": "stdout",
     "output_type": "stream",
     "text": [
      "id\n",
      "0\n",
      "score_date\n",
      "0\n",
      "csat_score\n",
      "0\n",
      "csat_response_rate\n",
      "0\n",
      "nps_score\n",
      "0\n",
      "nps_score_all_time\n",
      "0\n",
      "avg_nps_rating\n",
      "0\n",
      "avg_nps_rating_all_time\n",
      "0\n",
      "outreach_call_90dayflag\n",
      "0\n",
      "num_low_sev_outages\n",
      "0\n",
      "num_high_sev_outages\n",
      "0\n",
      "months_since_high_sev_outage\n",
      "0\n",
      "num_tickets_deflected\n",
      "0\n",
      "max_tickets_per_agent\n",
      "0\n"
     ]
    }
   ],
   "source": [
    "for i in customer_feedback.columns:\n",
    "    print(i)\n",
    "    print(customer_feedback[i].isnull().sum())"
   ]
  }
 ],
 "metadata": {
  "kernelspec": {
   "display_name": "Python 3",
   "language": "python",
   "name": "python3"
  },
  "language_info": {
   "codemirror_mode": {
    "name": "ipython",
    "version": 3
   },
   "file_extension": ".py",
   "mimetype": "text/x-python",
   "name": "python",
   "nbconvert_exporter": "python",
   "pygments_lexer": "ipython3",
   "version": "3.12.9"
  }
 },
 "nbformat": 4,
 "nbformat_minor": 2
}
