{
 "cells": [
  {
   "cell_type": "code",
   "execution_count": 1,
   "metadata": {},
   "outputs": [
    {
     "name": "stdout",
     "output_type": "stream",
     "text": [
      "              id  score_date  discount_arr_usd  team_plus  pro_plus  ent_plus  \\\n",
      "0   JMAN_2429072  10-02-2023               0.0          1         1         0   \n",
      "1   JMAN_9043466  13-01-2023               0.0          1         1         1   \n",
      "2   JMAN_2452556  24-02-2023               0.0          1         1         1   \n",
      "3   JMAN_2455113  03-03-2023               0.0          1         0         0   \n",
      "4  JMAN_18127937  10-02-2023               0.0          1         1         0   \n",
      "\n",
      "   discount_arr_usd_percentage  product_counts_percentage  \\\n",
      "0                          100                        100   \n",
      "1                          100                        100   \n",
      "2                          100                        100   \n",
      "3                          100                        100   \n",
      "4                          100                        100   \n",
      "\n",
      "   total_pool_max_agents  \n",
      "0                      0  \n",
      "1                      0  \n",
      "2                      0  \n",
      "3                      0  \n",
      "4                      0  \n"
     ]
    }
   ],
   "source": [
    "import pandas as pd\n",
    "\n",
    "df = pd.read_csv(\"Raw/product.csv\")  # Reads the uploaded file\n",
    "print(df.head())"
   ]
  },
  {
   "cell_type": "code",
   "execution_count": 2,
   "metadata": {},
   "outputs": [
    {
     "name": "stdout",
     "output_type": "stream",
     "text": [
      "Dataset cleaned and saved as 'cleaned_product.csv'\n",
      "<class 'pandas.core.frame.DataFrame'>\n",
      "RangeIndex: 13417 entries, 0 to 13416\n",
      "Data columns (total 9 columns):\n",
      " #   Column                       Non-Null Count  Dtype         \n",
      "---  ------                       --------------  -----         \n",
      " 0   id                           13417 non-null  object        \n",
      " 1   score_date                   13417 non-null  datetime64[ns]\n",
      " 2   discount_arr_usd             13417 non-null  float64       \n",
      " 3   team_plus                    13417 non-null  int64         \n",
      " 4   pro_plus                     13417 non-null  int64         \n",
      " 5   ent_plus                     13417 non-null  int64         \n",
      " 6   discount_arr_usd_percentage  13417 non-null  int64         \n",
      " 7   product_counts_percentage    13417 non-null  int64         \n",
      " 8   total_pool_max_agents        13417 non-null  int64         \n",
      "dtypes: datetime64[ns](1), float64(1), int64(6), object(1)\n",
      "memory usage: 943.5+ KB\n",
      "None\n"
     ]
    }
   ],
   "source": [
    "missing_values = df.isnull().sum()\n",
    "\n",
    "# Handle missing values column-wise (if any)\n",
    "for col in df.columns:\n",
    "    if df[col].isnull().sum() > 0:\n",
    "        if df[col].dtype == 'object':  # Categorical columns\n",
    "            df[col].fillna(df[col].mode()[0], inplace=True)\n",
    "        else:  # Numerical columns\n",
    "            df[col].fillna(df[col].median(), inplace=True)  # Using median for robust imputation\n",
    "\n",
    "# Convert integer-based categorical columns to proper data types\n",
    "int_columns = [\"team_plus\", \"pro_plus\", \"ent_plus\", \"discount_arr_usd_percentage\", \"product_counts_percentage\", \"total_pool_max_agents\"]\n",
    "df[int_columns] = df[int_columns].astype('int')\n",
    "\n",
    "df[\"score_date\"] = pd.to_datetime(df[\"score_date\"], format=\"%d-%m-%Y\", errors=\"coerce\")\n",
    "# Save cleaned dataset\n",
    "df.to_csv(\"cleaned_product.csv\", index=False)\n",
    "\n",
    "# Display summary\n",
    "print(\"Dataset cleaned and saved as 'cleaned_product.csv'\")\n",
    "print(df.info())"
   ]
  }
 ],
 "metadata": {
  "kernelspec": {
   "display_name": "Python 3",
   "language": "python",
   "name": "python3"
  },
  "language_info": {
   "codemirror_mode": {
    "name": "ipython",
    "version": 3
   },
   "file_extension": ".py",
   "mimetype": "text/x-python",
   "name": "python",
   "nbconvert_exporter": "python",
   "pygments_lexer": "ipython3",
   "version": "3.12.9"
  }
 },
 "nbformat": 4,
 "nbformat_minor": 2
}
