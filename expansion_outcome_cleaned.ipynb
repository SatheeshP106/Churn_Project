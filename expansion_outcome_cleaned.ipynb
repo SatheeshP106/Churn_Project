{
 "cells": [
  {
   "cell_type": "code",
   "execution_count": 1,
   "metadata": {},
   "outputs": [
    {
     "name": "stdout",
     "output_type": "stream",
     "text": [
      "Before Cleaning:\n",
      "<class 'pandas.core.frame.DataFrame'>\n",
      "RangeIndex: 13417 entries, 0 to 13416\n",
      "Data columns (total 8 columns):\n",
      " #   Column              Non-Null Count  Dtype  \n",
      "---  ------              --------------  -----  \n",
      " 0   id                  13417 non-null  object \n",
      " 1   score_date          13417 non-null  object \n",
      " 2   current_arr         13417 non-null  float64\n",
      " 3   future_arr          12392 non-null  float64\n",
      " 4   arr_change          13417 non-null  float64\n",
      " 5   fx_impact           13417 non-null  float64\n",
      " 6   seat_change_arr     13417 non-null  float64\n",
      " 7   product_change_arr  13417 non-null  float64\n",
      "dtypes: float64(6), object(2)\n",
      "memory usage: 838.7+ KB\n",
      "None\n",
      "              id  score_date  current_arr  future_arr  arr_change  fx_impact  \\\n",
      "0   JMAN_2429072  10-02-2023      2976.00     2976.00        0.00       0.00   \n",
      "1   JMAN_9043466  13-01-2023     20724.72    21474.84      499.56     250.56   \n",
      "2   JMAN_2452556  24-02-2023       605.76      817.80      181.92      30.12   \n",
      "3   JMAN_2455113  03-03-2023       300.00      300.00        0.00       0.00   \n",
      "4  JMAN_18127937  10-02-2023      2100.00      420.00    -1680.00       0.00   \n",
      "\n",
      "   seat_change_arr  product_change_arr  \n",
      "0              0.0                0.00  \n",
      "1              0.0              499.56  \n",
      "2              0.0                0.00  \n",
      "3              0.0                0.00  \n",
      "4          -1680.0                0.00  \n",
      "Data cleaning complete. Cleaned file saved as 'expansion_outcome_cleaned.csv'.\n"
     ]
    }
   ],
   "source": [
    "import pandas as pd\n",
    "\n",
    "# Load the dataset\n",
    "df = pd.read_csv('expansion_outcome.csv')\n",
    "\n",
    "# Display initial info\n",
    "print(\"Before Cleaning:\")\n",
    "print(df.info())\n",
    "print(df.head())\n",
    "\n",
    "# Step 1: Handle Missing Values\n",
    "# Fill missing values in numeric columns with median\n",
    "df.fillna(df.median(numeric_only=True), inplace=True)\n",
    "\n",
    "# Fill missing values in categorical/object columns with \"Unknown\"\n",
    "df.fillna({col: \"Unknown\" for col in df.select_dtypes(include=['object']).columns}, inplace=True)\n",
    "\n",
    "# Step 2: Remove Duplicates\n",
    "df.drop_duplicates(inplace=True)\n",
    "\n",
    "# Step 3: Convert Date Column\n",
    "\n",
    "df[\"score_date\"] = pd.to_datetime(df[\"score_date\"], format=\"%d-%m-%Y\", errors=\"coerce\")\n",
    "\n",
    "# Step 4: Save the Cleaned Data\n",
    "df.to_csv('expansion_outcome_cleaned.csv', index=False)\n",
    "\n",
    "print(\"Data cleaning complete. Cleaned file saved as 'expansion_outcome_cleaned.csv'.\")\n"
   ]
  }
 ],
 "metadata": {
  "kernelspec": {
   "display_name": "Python 3",
   "language": "python",
   "name": "python3"
  },
  "language_info": {
   "codemirror_mode": {
    "name": "ipython",
    "version": 3
   },
   "file_extension": ".py",
   "mimetype": "text/x-python",
   "name": "python",
   "nbconvert_exporter": "python",
   "pygments_lexer": "ipython3",
   "version": "3.12.9"
  }
 },
 "nbformat": 4,
 "nbformat_minor": 2
}
